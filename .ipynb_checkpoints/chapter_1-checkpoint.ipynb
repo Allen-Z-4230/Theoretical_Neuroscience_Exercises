{
 "cells": [
  {
   "cell_type": "markdown",
   "metadata": {},
   "source": [
    "# Neural Encoding I: Firing Rates and Spike Statistics"
   ]
  },
  {
   "cell_type": "markdown",
   "metadata": {},
   "source": [
    "## Book Content"
   ]
  },
  {
   "cell_type": "markdown",
   "metadata": {},
   "source": [
    "### Spikes"
   ]
  },
  {
   "cell_type": "markdown",
   "metadata": {},
   "source": [
    "We start with a **mathematical abstraction of action potentials**, called spikes.\n",
    "\n",
    "Spikes in time are discribed by the dirac delta function: $\\delta(t-t_{spike})$\n",
    "\n",
    "A spike train with n spikes {1,2,...,n} is represented by: $\\rho(t) = \\sum_{i=1}^{n}\\delta(t-t_{i})$\n",
    "\n",
    "Assumption of this abstraction:\n",
    "   1. Action potential last for a very short amount of time (infinitely small amount of time in the case of dirac delta)\n",
    "   2. Action potentials produced by a neuron are identical"
   ]
  },
  {
   "cell_type": "markdown",
   "metadata": {},
   "source": [
    "### Firing Rate"
   ]
  },
  {
   "cell_type": "markdown",
   "metadata": {},
   "source": [
    "We now introduce the concept of firing \"rate\", which measures **spikes per unit time**. Note that because spikes are discrete events, we can only estimate firing rate up to a ceratin degree. \n",
    "\n",
    "The idea is that neurons represent their input through changes in output, and this is case **firing rate is a potential charactertic of a neuron's output**.\n",
    "\n",
    "We can approximate firing rate using a window of size Δt: $r(t) = \\frac{1}{\\Delta t} \\int_{t}^{t+\\Delta t}\\rho(\\tau)d\\tau$\n",
    "\n",
    "Alternatively, we can use a causal or non-causal kernel w(t) to produce a smoother approximation: $r(t) = \\int_{-\\infty}^{\\infty}\\omega(\\tau)\\rho(t-\\tau)d\\tau$"
   ]
  },
  {
   "cell_type": "markdown",
   "metadata": {},
   "source": [
    "### Tuning Curve"
   ]
  },
  {
   "cell_type": "markdown",
   "metadata": {},
   "source": [
    "There are many ways to measure the input-output relationships in a neuron. If we assume some pathway transforms sensory information into an input of this neuron, we can use **average firing rate as a measure of output and some characteristic of the stimulus as a measure of the input** (example: bar orientation for visual stimuli). Here, two important operations are performed:\n",
    "1. Averaging of firing across the entire trial duration, this takes away any temporal variability after stimulus presentation\n",
    "2. Varying only one variable in the input. The actual scenario is that the response depends on many different features of input (some of which are correlated).\n",
    "\n",
    "After measuring, we can fit a function **f(s) that describes firing rate as a function of stimulus**: $f(s) = r_0 + (r_{max} - r_0)g(s)$, where $r_0$ is the base firing rate, and $r_{max}$ is the maximum firing rate. This is the tuning curve."
   ]
  },
  {
   "cell_type": "markdown",
   "metadata": {},
   "source": [
    "### Spike-Triggered Average"
   ]
  },
  {
   "cell_type": "markdown",
   "metadata": {},
   "source": [
    "A different way to characterize input is stimulus intensity as a function of time. This way, we can characterize a neuron's response not just to absolute intensity but changes in intensity. We make another two imporant assumpations about the time varying stimulus:\n",
    "1. zero-mean: $\\frac{1}{T}\\int_{0}^{T}s(t)dt = 0$\n",
    "2. Periodicity with period = $\\tau$ (identity across all trials with $T=\\tau$): $\\int_{0}^{T}h(s(t+\\tau))dt = \\int_{0}^{T}h(s(t))dt$\n",
    "\n",
    "We limit our consideration of output to single spikes. We measure the stimulus of an interval before a spike, and average them. In this framing, the input-output relationship is **what temporal pattern of stimulus is most likely to produce a spike**. This does include more information about the stimulus; however, it takes away any firing rate information, as all spikes are treated equally.\n",
    "\n",
    "We now define the spike triggered average $C(\\tau)$ as a function of the **trial-averaged stimulus $\\tau$ seconds before a spike**:\n",
    "$$\n",
    "C(\\tau) = \\langle \\frac{1}{n}\\sum_{i=1}^{n}s(t_i-\\tau) \\rangle = \\frac{1}{\\langle n\\rangle} \\int_{0}^{T} r(t)s(t-\\tau)dt = \\frac{1}{\\langle n\\rangle} (s * r)\n",
    "$$\n",
    "This simplification is possible because if we're summing over time shifted versions of the stimulus based on spike times (in multiple trials), it is equivalent to convolving it with the averaged spike train."
   ]
  },
  {
   "cell_type": "markdown",
   "metadata": {},
   "source": [
    "### Aside: White Noise"
   ]
  },
  {
   "cell_type": "markdown",
   "metadata": {},
   "source": [
    "Sometimes its useful to generate white noise stimuli, that is, stimuli that **isn't correlated with itself from one moment to the next**. Ideal white noise has the following properties:\n",
    "1. Perfectly unpredictable\n",
    "2. Has equal power at all frequencies\n",
    "3. Has ACF = 0 for all values except t = 0\n",
    "4. 0 mean\n",
    "\n",
    "Mathematically defined, the autocorrelation function (ACF) is the cross-correlation of a signal with itself:  $Q_{ss}(t) = s(t) * s(-t)$ This multiplies the signal with a time shifted version of itself and the sums the product.\n",
    "\n",
    "For an ideal white noise, $Q_{ss}(t) = \\sigma_{s}^2\\delta(t)$, i.e. zero everywhere except t = 0\n",
    "\n",
    "In digital systems, we can only approximate this up to a certain degree."
   ]
  },
  {
   "cell_type": "code",
   "execution_count": 45,
   "metadata": {},
   "outputs": [],
   "source": [
    "import numpy as np\n",
    "from matplotlib import pyplot as plt"
   ]
  },
  {
   "cell_type": "code",
   "execution_count": 50,
   "metadata": {
    "scrolled": true
   },
   "outputs": [],
   "source": [
    "noise = np.random.normal(size = 1000)\n",
    "#noise = np.random.uniform(size = 1000, low = -1, high=1)"
   ]
  },
  {
   "cell_type": "code",
   "execution_count": 56,
   "metadata": {
    "scrolled": true
   },
   "outputs": [
    {
     "data": {
      "text/plain": [
       "[<matplotlib.lines.Line2D at 0x224eac39b08>]"
      ]
     },
     "execution_count": 56,
     "metadata": {},
     "output_type": "execute_result"
    },
    {
     "data": {
      "image/png": "[encoded data removed]",
      "text/plain": [
       "<Figure size 432x288 with 1 Axes>"
      ]
     },
     "metadata": {
      "needs_background": "light"
     },
     "output_type": "display_data"
    }
   ],
   "source": [
    "plt.plot(np.correlate(noise, noise, mode='full'))"
   ]
  },
  {
   "cell_type": "markdown",
   "metadata": {},
   "source": [
    "We can see the ACF rapidly approaching zero as we get farther away from t = 0. This is because for gaussian distributed white noise with zero mean (generated indenpendly at each timepoint), the cross-correlation is much more likely to be zero (since values above and below the mean cancel each other out). \n",
    "\n",
    "A curious observation: we seem to get same ACF for noise generated with a uniform distribution, what is the difference?"
   ]
  },
  {
   "cell_type": "markdown",
   "metadata": {},
   "source": [
    "## Exercises"
   ]
  }
 ],
 "metadata": {
  "kernelspec": {
   "display_name": "Python 3",
   "language": "python",
   "name": "python3"
  },
  "language_info": {
   "codemirror_mode": {
    "name": "ipython",
    "version": 3
   },
   "file_extension": ".py",
   "mimetype": "text/x-python",
   "name": "python",
   "nbconvert_exporter": "python",
   "pygments_lexer": "ipython3",
   "version": "3.7.6"
  }
 },
 "nbformat": 4,
 "nbformat_minor": 4
}
